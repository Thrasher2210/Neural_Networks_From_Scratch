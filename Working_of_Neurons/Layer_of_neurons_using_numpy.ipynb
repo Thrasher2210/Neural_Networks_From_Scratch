{
 "cells": [
  {
   "cell_type": "markdown",
   "id": "0d486ed9-eb3e-4de6-abc6-6145d3739a13",
   "metadata": {},
   "source": [
    "### Single neuron using Numpy"
   ]
  },
  {
   "cell_type": "code",
   "execution_count": 1,
   "id": "6c0acf89-f363-43df-be15-5f1d1ab84f31",
   "metadata": {},
   "outputs": [
    {
     "name": "stdout",
     "output_type": "stream",
     "text": [
      "4.8\n"
     ]
    }
   ],
   "source": [
    "import numpy as np\n",
    "inputs = [1.0, 2.0, 3.0, 2.5]\n",
    "weights = [0.2, 0.8, -0.5, 1.0]\n",
    "bias = 2.0\n",
    "output = np.dot(inputs, weights) + bias\n",
    "print(output)"
   ]
  },
  {
   "cell_type": "markdown",
   "id": "39831f27-6269-48a7-a7b6-3a6f88cf6d93",
   "metadata": {},
   "source": [
    "### Layer of Neurons using numpy"
   ]
  },
  {
   "cell_type": "code",
   "execution_count": 7,
   "id": "e334c254-0ae1-4f17-ae8a-516378afd15f",
   "metadata": {},
   "outputs": [
    {
     "name": "stdout",
     "output_type": "stream",
     "text": [
      "[4.8   1.21  2.385]\n"
     ]
    }
   ],
   "source": [
    "inputs = [1.0, 2.0, 3.0, 2.5]\n",
    "weights = [[0.2, 0.8, -0.5, 1],\n",
    " [0.5, -0.91, 0.26, -0.5],\n",
    " [-0.26, -0.27, 0.17, 0.87]]\n",
    "biases = [2.0, 3.0, 0.5]\n",
    "\n",
    "\n",
    "layer_output = np.dot(weights, inputs) + biases # Here we did weights * inputs so as to match the dimensions of the resultant matrix\n",
    "#layer_output = np.dot(inputs, np.array(weights).T) + biases (Same output as above Line)\n",
    "print(layer_output)"
   ]
  },
  {
   "cell_type": "markdown",
   "id": "617ec82b-7dd6-49c4-a53b-e0de27e75176",
   "metadata": {},
   "source": [
    "### Batches of Neurons"
   ]
  },
  {
   "cell_type": "code",
   "execution_count": 8,
   "id": "ac3ad1f3-e822-4663-82f4-8d84f7345417",
   "metadata": {},
   "outputs": [
    {
     "name": "stdout",
     "output_type": "stream",
     "text": [
      "[[ 4.8    1.21   2.385]\n",
      " [ 8.9   -1.81   0.2  ]\n",
      " [ 1.41   1.051  0.026]]\n"
     ]
    }
   ],
   "source": [
    "inputs = [[1.0, 2.0, 3.0, 2.5], [2.0, 5.0, -1.0, 2.0], [-1.5, 2.7, 3.3, -0.8]]\n",
    "weights = [[0.2, 0.8, -0.5, 1],\n",
    " [0.5, -0.91, 0.26, -0.5],\n",
    " [-0.26, -0.27, 0.17, 0.87]]\n",
    "biases = [2.0, 3.0, 0.5]\n",
    "# here we have taken lists of list as input \n",
    "Batch_output = np.dot(inputs, np.array(weights).T) + biases\n",
    "print(Batch_output)"
   ]
  },
  {
   "cell_type": "code",
   "execution_count": null,
   "id": "067fd324-dd5e-4e4e-9f0e-bf56a8786cdc",
   "metadata": {},
   "outputs": [],
   "source": []
  }
 ],
 "metadata": {
  "kernelspec": {
   "display_name": "Python [conda env:base] *",
   "language": "python",
   "name": "conda-base-py"
  },
  "language_info": {
   "codemirror_mode": {
    "name": "ipython",
    "version": 3
   },
   "file_extension": ".py",
   "mimetype": "text/x-python",
   "name": "python",
   "nbconvert_exporter": "python",
   "pygments_lexer": "ipython3",
   "version": "3.12.7"
  }
 },
 "nbformat": 4,
 "nbformat_minor": 5
}
