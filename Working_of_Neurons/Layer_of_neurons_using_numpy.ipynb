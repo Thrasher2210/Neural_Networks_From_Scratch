{
 "cells": [
  {
   "cell_type": "markdown",
   "id": "0d486ed9-eb3e-4de6-abc6-6145d3739a13",
   "metadata": {},
   "source": [
    "### Single neuron using Numpy"
   ]
  },
  {
   "cell_type": "code",
   "execution_count": 2,
   "id": "6c0acf89-f363-43df-be15-5f1d1ab84f31",
   "metadata": {},
   "outputs": [
    {
     "name": "stdout",
     "output_type": "stream",
     "text": [
      "4.8\n"
     ]
    }
   ],
   "source": [
    "import numpy as np\n",
    "inputs = [1.0, 2.0, 3.0, 2.5]\n",
    "weights = [0.2, 0.8, -0.5, 1.0]\n",
    "bias = 2.0\n",
    "output = np.dot(inputs, weights) + bias\n",
    "print(output)"
   ]
  },
  {
   "cell_type": "markdown",
   "id": "39831f27-6269-48a7-a7b6-3a6f88cf6d93",
   "metadata": {},
   "source": [
    "### Layer of Neurons using numpy"
   ]
  },
  {
   "cell_type": "code",
   "execution_count": 3,
   "id": "e334c254-0ae1-4f17-ae8a-516378afd15f",
   "metadata": {},
   "outputs": [
    {
     "name": "stdout",
     "output_type": "stream",
     "text": [
      "[4.8   1.21  2.385]\n"
     ]
    }
   ],
   "source": [
    "inputs = [1.0, 2.0, 3.0, 2.5]\n",
    "weights = [[0.2, 0.8, -0.5, 1],\n",
    " [0.5, -0.91, 0.26, -0.5],\n",
    " [-0.26, -0.27, 0.17, 0.87]]\n",
    "biases = [2.0, 3.0, 0.5]\n",
    "\n",
    "\n",
    "layer_output = np.dot(weights, inputs) + biases # Here we did weights * inputs so as to match the dimensions of the resultant matrix\n",
    "#layer_output = np.dot(inputs, np.array(weights).T) + biases (Same output as above Line)\n",
    "print(layer_output)"
   ]
  },
  {
   "cell_type": "markdown",
   "id": "617ec82b-7dd6-49c4-a53b-e0de27e75176",
   "metadata": {},
   "source": [
    "### Batches of Neurons"
   ]
  },
  {
   "cell_type": "code",
   "execution_count": 4,
   "id": "ac3ad1f3-e822-4663-82f4-8d84f7345417",
   "metadata": {},
   "outputs": [
    {
     "name": "stdout",
     "output_type": "stream",
     "text": [
      "[[ 4.8    1.21   2.385]\n",
      " [ 8.9   -1.81   0.2  ]\n",
      " [ 1.41   1.051  0.026]]\n"
     ]
    }
   ],
   "source": [
    "inputs = [[1.0, 2.0, 3.0, 2.5], [2.0, 5.0, -1.0, 2.0], [-1.5, 2.7, 3.3, -0.8]]\n",
    "weights = [[0.2, 0.8, -0.5, 1],\n",
    " [0.5, -0.91, 0.26, -0.5],\n",
    " [-0.26, -0.27, 0.17, 0.87]]\n",
    "biases = [2.0, 3.0, 0.5]\n",
    "# here we have taken lists of list as input \n",
    "Batch_output = np.dot(inputs, np.array(weights).T) + biases\n",
    "print(Batch_output)"
   ]
  },
  {
   "cell_type": "markdown",
   "id": "19e7047f-932e-4b2c-9279-f38344c8bc9a",
   "metadata": {},
   "source": [
    "### Multiple Layer Simulation of Neurons"
   ]
  },
  {
   "cell_type": "code",
   "execution_count": 6,
   "id": "18f218c0-1c2b-4b85-bb9e-8cff46c2e7df",
   "metadata": {},
   "outputs": [
    {
     "name": "stdout",
     "output_type": "stream",
     "text": [
      "[[ 0.5031  -1.04185 -1.03875]\n",
      " [ 0.2434  -2.7332  -4.7633 ]\n",
      " [-0.99314  1.41254  0.64345]]\n"
     ]
    }
   ],
   "source": [
    "inputs = [[1.0, 2.0, 3.0, 2.5], [2.0, 5.0, -1.0, 2.0], [-1.5, 2.7, 3.3, -0.8]]\n",
    "\n",
    "weights1 = [[0.2, 0.8, -0.5, 1],\n",
    " [0.5, -0.91, 0.26, -0.5],\n",
    " [-0.26, -0.27, 0.17, 0.87]]\n",
    "\n",
    "biases1 = [2.0, 3.0, 0.5]\n",
    "\n",
    "weights2 = [[0.1, -0.14, 0.5],\n",
    "            [-0.5, 0.12, -0.33],\n",
    "            [-0.44, 0.73, -0.13]]\n",
    "\n",
    "biases2 = [-1, 2, 0.5]\n",
    "\n",
    "layer1_outputs = np.dot(inputs, np.array(weights1).T) + biases1\n",
    "layer2_outputs = np.dot(layer1_outputs, np.array(weights2).T) + biases2\n",
    "\n",
    "print(layer2_outputs)"
   ]
  },
  {
   "cell_type": "code",
   "execution_count": null,
   "id": "311babbf-1f26-4f98-b1be-356518becf47",
   "metadata": {},
   "outputs": [],
   "source": []
  }
 ],
 "metadata": {
  "kernelspec": {
   "display_name": "Python [conda env:base] *",
   "language": "python",
   "name": "conda-base-py"
  },
  "language_info": {
   "codemirror_mode": {
    "name": "ipython",
    "version": 3
   },
   "file_extension": ".py",
   "mimetype": "text/x-python",
   "name": "python",
   "nbconvert_exporter": "python",
   "pygments_lexer": "ipython3",
   "version": "3.12.7"
  }
 },
 "nbformat": 4,
 "nbformat_minor": 5
}
