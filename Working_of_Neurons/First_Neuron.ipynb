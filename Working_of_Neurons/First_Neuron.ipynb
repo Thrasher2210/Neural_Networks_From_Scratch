{
 "cells": [
  {
   "cell_type": "markdown",
   "id": "e7b45867-5b72-4a4a-b6cb-b112c4d6585f",
   "metadata": {},
   "source": [
    "### Implementing how the neuron passes the values forward"
   ]
  },
  {
   "cell_type": "code",
   "execution_count": 2,
   "id": "ce04f085",
   "metadata": {
    "vscode": {
     "languageId": "plaintext"
    }
   },
   "outputs": [
    {
     "name": "stdout",
     "output_type": "stream",
     "text": [
      "2.3\n"
     ]
    }
   ],
   "source": [
    "inputs = [1, 2, 3]\n",
    "\n",
    "weights = [0.2, 0.8, -0.5]\n",
    "\n",
    "bias = 2\n",
    "\n",
    "outputs = (inputs[0]*weights[0] + inputs[1]*weights[1] + inputs[2]*weights[2] + bias)\n",
    "\n",
    "print(outputs)"
   ]
  },
  {
   "cell_type": "markdown",
   "id": "17c17cad-ae83-4847-91a1-b6d45bfd2c95",
   "metadata": {},
   "source": [
    "### Coding a layer of data in neurons"
   ]
  },
  {
   "cell_type": "code",
   "execution_count": 4,
   "id": "c370b1fe-b7e2-48c9-a396-95d978c23330",
   "metadata": {},
   "outputs": [
    {
     "name": "stdout",
     "output_type": "stream",
     "text": [
      "[4.8, 1.21, 2.385]\n"
     ]
    }
   ],
   "source": [
    "inputs = [1, 2, 3, 2.5]\n",
    "\n",
    "weights = [[0.2, 0.8, -0.5, 1],\n",
    " [0.5, -0.91, 0.26, -0.5],\n",
    " [-0.26, -0.27, 0.17, 0.87]]\n",
    "\n",
    "biases = [2, 3, 0.5]\n",
    "\n",
    "outputs =  [\n",
    " # Neuron 1:\n",
    " inputs[0]*weights[0][0] +\n",
    " inputs[1]*weights[0][1] +\n",
    " inputs[2]*weights[0][2] +\n",
    " inputs[3]*weights[0][3] + biases[0],\n",
    " # Neuron 2:\n",
    " inputs[0]*weights[1][0] +\n",
    " inputs[1]*weights[1][1] +\n",
    " inputs[2]*weights[1][2] +\n",
    " inputs[3]*weights[1][3] + biases[1],\n",
    " # Neuron 3:\n",
    " inputs[0]*weights[2][0] +\n",
    " inputs[1]*weights[2][1] +\n",
    " inputs[2]*weights[2][2] +\n",
    " inputs[3]*weights[2][3] + biases[2]]\n",
    "\n",
    "print(outputs)"
   ]
  },
  {
   "cell_type": "markdown",
   "id": "c4ef987d-5756-4776-9a13-a393a213f2be",
   "metadata": {},
   "source": [
    "### Using loops for code Optimization"
   ]
  },
  {
   "cell_type": "code",
   "execution_count": 5,
   "id": "804b24f2-69f1-4f08-8f57-871c000fa31a",
   "metadata": {},
   "outputs": [
    {
     "name": "stdout",
     "output_type": "stream",
     "text": [
      "[4.8, 1.21, 2.385]\n"
     ]
    }
   ],
   "source": [
    "inputs = [1, 2, 3, 2.5]\n",
    "\n",
    "weights = [[0.2, 0.8, -0.5, 1],\n",
    " [0.5, -0.91, 0.26, -0.5],\n",
    " [-0.26, -0.27, 0.17, 0.87]]\n",
    "\n",
    "biases = [2, 3, 0.5]\n",
    "\n",
    "layer_outputs = []\n",
    "\n",
    "# Using for loop and zip function to execute the formula and return the result in the list named layer_outputs\n",
    "for neuron_weights, neuron_bias in zip (weights, biases):\n",
    "    neuron_output = 0\n",
    "    for neuron_inputs, weight in zip (inputs, neuron_weights):\n",
    "        neuron_output += neuron_inputs * weight\n",
    "    neuron_output += neuron_bias\n",
    "    layer_outputs.append(neuron_output)\n",
    "print(layer_outputs)    "
   ]
  },
  {
   "cell_type": "code",
   "execution_count": null,
   "id": "766c4291-f7f2-440e-9922-39c4c0b8ec4b",
   "metadata": {},
   "outputs": [],
   "source": []
  }
 ],
 "metadata": {
  "kernelspec": {
   "display_name": "Python [conda env:base] *",
   "language": "python",
   "name": "conda-base-py"
  },
  "language_info": {
   "codemirror_mode": {
    "name": "ipython",
    "version": 3
   },
   "file_extension": ".py",
   "mimetype": "text/x-python",
   "name": "python",
   "nbconvert_exporter": "python",
   "pygments_lexer": "ipython3",
   "version": "3.12.7"
  }
 },
 "nbformat": 4,
 "nbformat_minor": 5
}
